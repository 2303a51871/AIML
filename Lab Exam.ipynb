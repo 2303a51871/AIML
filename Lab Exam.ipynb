{
  "nbformat": 4,
  "nbformat_minor": 0,
  "metadata": {
    "colab": {
      "provenance": [],
      "authorship_tag": "ABX9TyMUiUhH+7/LjDQvEamAmAVv",
      "include_colab_link": true
    },
    "kernelspec": {
      "name": "python3",
      "display_name": "Python 3"
    },
    "language_info": {
      "name": "python"
    }
  },
  "cells": [
    {
      "cell_type": "markdown",
      "metadata": {
        "id": "view-in-github",
        "colab_type": "text"
      },
      "source": [
        "<a href=\"https://colab.research.google.com/github/2303a51871/AIML/blob/main/Lab%20Exam.ipynb\" target=\"_parent\"><img src=\"https://colab.research.google.com/assets/colab-badge.svg\" alt=\"Open In Colab\"/></a>"
      ]
    },
    {
      "cell_type": "markdown",
      "source": [
        "Prediction of Online Retail purchases Calendar ? Pages\n",
        "\n",
        "Identify the top 5 reasons for most retail sales\n",
        "\n",
        "Identify the country with most online retail sales Inbox Files\n",
        "\n",
        "Find the max and min quantity of online retail sales Syllabus\n",
        "\n",
        "Name the stockade with the most sales\n",
        "\n",
        "Identify the StockCode with most cancellations Online Retail UCI ML History Quizzes Modules\n",
        "\n",
        "Apply either Classification Model or Clustering Model to evaluate the dataset"
      ],
      "metadata": {
        "id": "SSSs-_8X1d5V"
      }
    },
    {
      "cell_type": "code",
      "source": [
        "import pandas as pd\n",
        "import matplotlib.pyplot as plt\n",
        "import seaborn as sns\n",
        "from sklearn.cluster import KMeans\n",
        "from sklearn.preprocessing import StandardScaler"
      ],
      "metadata": {
        "id": "lV_q0db91e7W"
      },
      "execution_count": 3,
      "outputs": []
    },
    {
      "cell_type": "code",
      "source": [
        "df = pd.read_excel('/content/Online Retail.xlsx')"
      ],
      "metadata": {
        "id": "rf1-aE7W25cp"
      },
      "execution_count": 4,
      "outputs": []
    },
    {
      "cell_type": "code",
      "source": [
        "df['InvoiceDate'] = pd.to_datetime(df['InvoiceDate'])  # Convert InvoiceDate to datetime\n",
        "df['TotalSales'] = df['Quantity'] * df['UnitPrice']  # Add TotalSales colum"
      ],
      "metadata": {
        "id": "q-2UxmCC1iXv"
      },
      "execution_count": 5,
      "outputs": []
    },
    {
      "cell_type": "markdown",
      "source": [
        "Identify the top 5 reasons for most retail sales (EDA)"
      ],
      "metadata": {
        "id": "fzVE1Hbe3bj_"
      }
    },
    {
      "cell_type": "code",
      "source": [
        "# Let's find the top 5 most sold products (StockCode)\n",
        "top_5_products = df.groupby('StockCode')['Quantity'].sum().nlargest(5)\n",
        "print(f\"Top 5 Products by Quantity Sold:\\n{top_5_products}\")"
      ],
      "metadata": {
        "colab": {
          "base_uri": "https://localhost:8080/"
        },
        "id": "xjVd12kX1oPV",
        "outputId": "5463bc1f-a6a9-4243-8ea0-54c4f91dc89e"
      },
      "execution_count": 6,
      "outputs": [
        {
          "output_type": "stream",
          "name": "stdout",
          "text": [
            "Top 5 Products by Quantity Sold:\n",
            "StockCode\n",
            "22197     56450\n",
            "84077     53847\n",
            "85099B    47363\n",
            "85123A    38830\n",
            "84879     36221\n",
            "Name: Quantity, dtype: int64\n"
          ]
        }
      ]
    },
    {
      "cell_type": "markdown",
      "source": [
        "Identify the country with the most online retail sales\n"
      ],
      "metadata": {
        "id": "dgvKrldG3lne"
      }
    },
    {
      "cell_type": "code",
      "source": [
        "# Group by Country and sum up the TotalSales\n",
        "country_sales = df.groupby('Country')['TotalSales'].sum().nlargest(1)\n",
        "print(f\"Country with the most sales:\\n{country_sales}\")"
      ],
      "metadata": {
        "colab": {
          "base_uri": "https://localhost:8080/"
        },
        "id": "xdBvoiWj1t1V",
        "outputId": "6f31f868-7a55-4d38-83df-0d25a9c8e049"
      },
      "execution_count": 7,
      "outputs": [
        {
          "output_type": "stream",
          "name": "stdout",
          "text": [
            "Country with the most sales:\n",
            "Country\n",
            "United Kingdom    8187806.364\n",
            "Name: TotalSales, dtype: float64\n"
          ]
        }
      ]
    },
    {
      "cell_type": "markdown",
      "source": [
        "Find the max and min quantity of online retail sales"
      ],
      "metadata": {
        "id": "UZi8vRrK3t4F"
      }
    },
    {
      "cell_type": "code",
      "source": [
        "max_quantity = df['Quantity'].max()\n",
        "min_quantity = df['Quantity'].min()\n",
        "print(f\"Max Quantity Sold: {max_quantity}\")\n",
        "print(f\"Min Quantity Sold: {min_quantity}\")"
      ],
      "metadata": {
        "colab": {
          "base_uri": "https://localhost:8080/"
        },
        "id": "I8HPqENQ11bi",
        "outputId": "ba11bfa8-5b78-4977-d856-838d11196bce"
      },
      "execution_count": 8,
      "outputs": [
        {
          "output_type": "stream",
          "name": "stdout",
          "text": [
            "Max Quantity Sold: 80995\n",
            "Min Quantity Sold: -80995\n"
          ]
        }
      ]
    },
    {
      "cell_type": "markdown",
      "source": [
        "Name the StockCode with the most sales (based on Quantity)"
      ],
      "metadata": {
        "id": "dZrwIenp30vB"
      }
    },
    {
      "cell_type": "code",
      "source": [
        "stockcode_most_sales = df.groupby('StockCode')['Quantity'].sum().idxmax()\n",
        "print(f\"StockCode with the most sales: {stockcode_most_sales}\")"
      ],
      "metadata": {
        "colab": {
          "base_uri": "https://localhost:8080/"
        },
        "id": "e4Oa0JW712iG",
        "outputId": "33912265-1780-4f3d-f3ed-0da522f237c4"
      },
      "execution_count": 9,
      "outputs": [
        {
          "output_type": "stream",
          "name": "stdout",
          "text": [
            "StockCode with the most sales: 22197\n"
          ]
        }
      ]
    },
    {
      "cell_type": "markdown",
      "source": [
        "Identify the StockCode with Most Cancellations (Negative Quantities)"
      ],
      "metadata": {
        "id": "HkxOcy9B3-0B"
      }
    },
    {
      "cell_type": "code",
      "source": [
        "df_cancellations = df[df['Quantity'] < 0]  # Filter negative quantities (cancellations)\n",
        "stockcode_most_cancellations = df_cancellations.groupby('StockCode')['Quantity'].sum().idxmin()\n",
        "print(f\"StockCode with most cancellations: {stockcode_most_cancellations}\")"
      ],
      "metadata": {
        "colab": {
          "base_uri": "https://localhost:8080/"
        },
        "id": "lkip5z6Z4UyB",
        "outputId": "69824159-042b-4380-e9d4-cb92b081a645"
      },
      "execution_count": 12,
      "outputs": [
        {
          "output_type": "stream",
          "name": "stdout",
          "text": [
            "StockCode with most cancellations: 23843\n"
          ]
        }
      ]
    },
    {
      "cell_type": "markdown",
      "source": [
        "Apply Classification or Clustering Model (e.g., Clustering for Customer Segmentation)"
      ],
      "metadata": {
        "id": "Cg0V_nGp4XIS"
      }
    },
    {
      "cell_type": "code",
      "source": [
        "# Create a dataframe of customer features for clustering\n",
        "customer_features = df.groupby('CustomerID').agg({\n",
        "    'Quantity': 'sum',  # Total quantity purchased by each customer\n",
        "    'TotalSales': 'sum',  # Total sales value for each customer\n",
        "    'UnitPrice': 'mean'  # Average price of products bought by each customer\n",
        "}).reset_index()\n",
        "\n",
        "# Drop customers with missing CustomerID\n",
        "customer_features = customer_features.dropna(subset=['CustomerID'])\n",
        "\n",
        "# Standardize the features before applying clustering\n",
        "scaler = StandardScaler()\n",
        "scaled_features = scaler.fit_transform(customer_features[['Quantity', 'TotalSales', 'UnitPrice']])"
      ],
      "metadata": {
        "id": "WWD98OSq2Fdf"
      },
      "execution_count": 10,
      "outputs": []
    },
    {
      "cell_type": "code",
      "source": [
        "# Apply KMeans clustering to segment customers into 5 clusters\n",
        "kmeans = KMeans(n_clusters=5, random_state=42)\n",
        "customer_features['Cluster'] = kmeans.fit_predict(scaled_features)\n",
        "\n",
        "# Visualize the clusters (Quantity vs TotalSales)\n",
        "plt.figure(figsize=(10, 6))\n",
        "sns.scatterplot(x=customer_features['Quantity'], y=customer_features['TotalSales'], hue=customer_features['Cluster'], palette='viridis')\n",
        "plt.title('Customer Segmentation (KMeans Clustering)')\n",
        "plt.xlabel('Quantity Purchased')\n",
        "plt.ylabel('Total Sales')\n",
        "plt.show()\n",
        "\n",
        "# Print out the customer segment means (average values for each cluster)\n",
        "print(f\"Customer Segments (Average values per cluster):\\n{customer_features.groupby('Cluster').agg({'Quantity': 'mean', 'TotalSales': 'mean', 'UnitPrice': 'mean'})}\")"
      ],
      "metadata": {
        "colab": {
          "base_uri": "https://localhost:8080/",
          "height": 703
        },
        "id": "5xS0pCGV2Nq_",
        "outputId": "3385a1af-d5ba-421e-f8ed-4502b2481eeb"
      },
      "execution_count": 11,
      "outputs": [
        {
          "output_type": "display_data",
          "data": {
            "text/plain": [
              "<Figure size 1000x600 with 1 Axes>"
            ],
            "image/png": "[encoded data removed]"
          },
          "metadata": {}
        },
        {
          "output_type": "stream",
          "name": "stdout",
          "text": [
            "Customer Segments (Average values per cluster):\n",
            "              Quantity     TotalSales    UnitPrice\n",
            "Cluster                                           \n",
            "0           786.168133    1320.166326     5.157763\n",
            "1        109956.666667  241136.560000     7.988403\n",
            "2         63381.857143   91030.744286     3.074241\n",
            "3            29.500000   -1819.065000  6171.705000\n",
            "4         17586.000000   29585.734762     5.294280\n"
          ]
        }
      ]
    }
  ]
}