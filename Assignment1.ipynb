{
  "nbformat": 4,
  "nbformat_minor": 0,
  "metadata": {
    "colab": {
      "provenance": [],
      "authorship_tag": "ABX9TyNrilGhJyv0g0BFJ6Tl96VV",
      "include_colab_link": true
    },
    "kernelspec": {
      "name": "python3",
      "display_name": "Python 3"
    },
    "language_info": {
      "name": "python"
    }
  },
  "cells": [
    {
      "cell_type": "markdown",
      "metadata": {
        "id": "view-in-github",
        "colab_type": "text"
      },
      "source": [
        "<a href=\"https://colab.research.google.com/github/2303a51871/AIML/blob/main/Assignment1.ipynb\" target=\"_parent\"><img src=\"https://colab.research.google.com/assets/colab-badge.svg\" alt=\"Open In Colab\"/></a>"
      ]
    },
    {
      "cell_type": "code",
      "execution_count": null,
      "metadata": {
        "colab": {
          "base_uri": "https://localhost:8080/"
        },
        "id": "ZPyN_oxpJoLH",
        "outputId": "ec5c40f2-1268-49cd-cba1-49a4326fc546"
      },
      "outputs": [
        {
          "output_type": "stream",
          "name": "stdout",
          "text": [
            "BFS starting from 0: \n",
            "0 1 2 3 4 "
          ]
        }
      ],
      "source": [
        "from collections import deque\n",
        "\n",
        "# BFS from given source s\n",
        "def bfs(adj, s, visited):\n",
        "\n",
        "    # Create a queue for BFS\n",
        "    q = deque()\n",
        "\n",
        "    # Mark the source node as visited and enqueue it\n",
        "    visited[s] = True\n",
        "    q.append(s)\n",
        "\n",
        "    # Iterate over the queue\n",
        "    while q:\n",
        "\n",
        "        # Dequeue a vertex from queue and print it\n",
        "        curr = q.popleft()\n",
        "        print(curr, end=\" \")\n",
        "\n",
        "        # Get all adjacent vertices of the dequeued\n",
        "        # vertex. If an adjacent has not been visited,\n",
        "        # mark it visited and enqueue it\n",
        "        for x in adj[curr]:\n",
        "            if not visited[x]:\n",
        "                visited[x] = True\n",
        "                q.append(x)\n",
        "\n",
        "# Function to add an edge to the graph\n",
        "def add_edge(adj, u, v):\n",
        "    adj[u].append(v)\n",
        "    adj[v].append(u)\n",
        "\n",
        "# Example usage\n",
        "if __name__ == \"__main__\":\n",
        "\n",
        "    # Number of vertices in the graph\n",
        "    V = 5\n",
        "\n",
        "    # Adjacency list representation of the graph\n",
        "    adj = [[] for _ in range(V)]\n",
        "\n",
        "    # Add edges to the graph\n",
        "    add_edge(adj, 0, 1)\n",
        "    add_edge(adj, 0, 2)\n",
        "    add_edge(adj, 1, 3)\n",
        "    add_edge(adj, 1, 4)\n",
        "    add_edge(adj, 2, 4)\n",
        "\n",
        "    # Mark all the vertices as not visited\n",
        "    visited = [False] * V\n",
        "\n",
        "    # Perform BFS traversal starting from vertex 0\n",
        "    print(\"BFS starting from 0: \")\n",
        "    bfs(adj, 0, visited)"
      ]
    }
  ]
}